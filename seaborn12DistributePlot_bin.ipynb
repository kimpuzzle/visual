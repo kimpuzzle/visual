{
 "cells": [
  {
   "cell_type": "code",
   "execution_count": null,
   "id": "4bc6e5ce",
   "metadata": {},
   "outputs": [],
   "source": [
    "Visualizing distributions of data"
   ]
  },
  {
   "cell_type": "code",
   "execution_count": null,
   "id": "b1de80f0",
   "metadata": {},
   "outputs": [],
   "source": [
    "https://seaborn.pydata.org/tutorial/distributions.html"
   ]
  },
  {
   "cell_type": "code",
   "execution_count": 2,
   "id": "c05a0c83",
   "metadata": {},
   "outputs": [],
   "source": [
    "import numpy as np\n",
    "import pandas as pd\n",
    "import matplotlib.pyplot as plt\n",
    "import seaborn as sns\n",
    "sns.set_theme(style=\"darkgrid\")\n",
    "%matplotlib inline"
   ]
  },
  {
   "cell_type": "code",
   "execution_count": 4,
   "id": "dd26ac81",
   "metadata": {},
   "outputs": [
    {
     "data": {
      "text/plain": [
       "<seaborn.axisgrid.FacetGrid at 0x18244c009a0>"
      ]
     },
     "execution_count": 4,
     "metadata": {},
     "output_type": "execute_result"
    },
    {
     "data": {
      "image/png": "[encoded data removed]",
      "text/plain": [
       "<Figure size 360x360 with 1 Axes>"
      ]
     },
     "metadata": {
      "needs_background": "light"
     },
     "output_type": "display_data"
    }
   ],
   "source": [
    "penguins = sns.load_dataset(\"penguins\")\n",
    "sns.displot(penguins, x=\"flipper_length_mm\")"
   ]
  },
  {
   "cell_type": "code",
   "execution_count": null,
   "id": "4ca2f2fe",
   "metadata": {},
   "outputs": [],
   "source": [
    "sns.displot(penguins, x=\"flipper_length_mm\", binwidth=3)"
   ]
  },
  {
   "cell_type": "code",
   "execution_count": null,
   "id": "8b945ce7",
   "metadata": {},
   "outputs": [],
   "source": [
    "sns.displot(penguins, x=\"flipper_length_mm\", bins=20)"
   ]
  },
  {
   "cell_type": "code",
   "execution_count": null,
   "id": "208eb354",
   "metadata": {},
   "outputs": [],
   "source": [
    "tips = sns.load_dataset(\"tips\")\n",
    "sns.displot(tips, x=\"size\")"
   ]
  },
  {
   "cell_type": "code",
   "execution_count": null,
   "id": "a7133197",
   "metadata": {},
   "outputs": [],
   "source": [
    "sns.displot(tips, x=\"size\", bins=[1, 2, 3, 4, 5, 6, 7])"
   ]
  },
  {
   "cell_type": "code",
   "execution_count": null,
   "id": "9a7c0b35",
   "metadata": {},
   "outputs": [],
   "source": [
    "sns.displot(tips, x=\"size\", discrete=True)"
   ]
  },
  {
   "cell_type": "code",
   "execution_count": null,
   "id": "5afd1181",
   "metadata": {},
   "outputs": [],
   "source": [
    "sns.displot(tips, x=\"day\", shrink=.8)"
   ]
  },
  {
   "cell_type": "code",
   "execution_count": null,
   "id": "22707991",
   "metadata": {},
   "outputs": [],
   "source": [
    "sns.displot(penguins, x=\"flipper_length_mm\", hue=\"species\")"
   ]
  },
  {
   "cell_type": "code",
   "execution_count": null,
   "id": "f1057ae7",
   "metadata": {},
   "outputs": [],
   "source": [
    "sns.displot(penguins, x=\"flipper_length_mm\", hue=\"species\", element=\"step\")"
   ]
  },
  {
   "cell_type": "code",
   "execution_count": null,
   "id": "116b6d61",
   "metadata": {},
   "outputs": [],
   "source": [
    "sns.displot(penguins, x=\"flipper_length_mm\", hue=\"species\", multiple=\"stack\")"
   ]
  },
  {
   "cell_type": "code",
   "execution_count": null,
   "id": "baad81c6",
   "metadata": {},
   "outputs": [],
   "source": [
    "sns.displot(penguins, x=\"flipper_length_mm\", hue=\"sex\", multiple=\"dodge\")"
   ]
  },
  {
   "cell_type": "code",
   "execution_count": null,
   "id": "42ec6016",
   "metadata": {},
   "outputs": [],
   "source": [
    "sns.displot(penguins, x=\"flipper_length_mm\", col=\"sex\", multiple=\"dodge\")"
   ]
  },
  {
   "cell_type": "code",
   "execution_count": null,
   "id": "f1a62f67",
   "metadata": {},
   "outputs": [],
   "source": [
    "Normalized histogram statistics¶"
   ]
  },
  {
   "cell_type": "code",
   "execution_count": null,
   "id": "9efe0e44",
   "metadata": {},
   "outputs": [],
   "source": [
    "sns.displot(penguins, x=\"flipper_length_mm\", hue=\"species\", stat=\"density\")"
   ]
  },
  {
   "cell_type": "code",
   "execution_count": null,
   "id": "c4ef1dac",
   "metadata": {},
   "outputs": [],
   "source": [
    "sns.displot(penguins, x=\"flipper_length_mm\", hue=\"species\", stat=\"density\", common_norm=False)"
   ]
  },
  {
   "cell_type": "code",
   "execution_count": null,
   "id": "0e7ed949",
   "metadata": {},
   "outputs": [],
   "source": [
    "sns.displot(penguins, x=\"flipper_length_mm\", hue=\"species\", stat=\"probability\")"
   ]
  },
  {
   "cell_type": "code",
   "execution_count": null,
   "id": "5d37e7f7",
   "metadata": {},
   "outputs": [],
   "source": [
    "Kernel density estimation¶"
   ]
  },
  {
   "cell_type": "code",
   "execution_count": null,
   "id": "f25e8001",
   "metadata": {},
   "outputs": [],
   "source": [
    "sns.displot(penguins, x=\"flipper_length_mm\", kind=\"kde\")"
   ]
  },
  {
   "cell_type": "code",
   "execution_count": null,
   "id": "1f164445",
   "metadata": {},
   "outputs": [],
   "source": [
    "sns.displot(penguins, x=\"flipper_length_mm\", kind=\"kde\", bw_adjust=.25)"
   ]
  },
  {
   "cell_type": "code",
   "execution_count": null,
   "id": "b3a582d1",
   "metadata": {},
   "outputs": [],
   "source": [
    "sns.displot(penguins, x=\"flipper_length_mm\", kind=\"kde\", bw_adjust=2)"
   ]
  },
  {
   "cell_type": "code",
   "execution_count": null,
   "id": "1af8d64b",
   "metadata": {},
   "outputs": [],
   "source": [
    "sns.displot(penguins, x=\"flipper_length_mm\", hue=\"species\", kind=\"kde\")"
   ]
  },
  {
   "cell_type": "code",
   "execution_count": null,
   "id": "18e21a5e",
   "metadata": {},
   "outputs": [],
   "source": [
    "sns.displot(penguins, x=\"flipper_length_mm\", hue=\"species\", kind=\"kde\", multiple=\"stack\")"
   ]
  },
  {
   "cell_type": "code",
   "execution_count": null,
   "id": "64afb620",
   "metadata": {},
   "outputs": [],
   "source": [
    "sns.displot(penguins, x=\"flipper_length_mm\", hue=\"species\", kind=\"kde\", fill=True)"
   ]
  },
  {
   "cell_type": "code",
   "execution_count": null,
   "id": "439380f2",
   "metadata": {},
   "outputs": [],
   "source": [
    "Kernel density estimation pitfalls"
   ]
  },
  {
   "cell_type": "code",
   "execution_count": null,
   "id": "d750b38b",
   "metadata": {},
   "outputs": [],
   "source": [
    "sns.displot(tips, x=\"total_bill\", kind=\"kde\")"
   ]
  },
  {
   "cell_type": "code",
   "execution_count": null,
   "id": "e94d7049",
   "metadata": {},
   "outputs": [],
   "source": [
    "sns.displot(tips, x=\"total_bill\", kind=\"kde\", cut=0)"
   ]
  },
  {
   "cell_type": "code",
   "execution_count": null,
   "id": "71b39b7a",
   "metadata": {},
   "outputs": [],
   "source": [
    "diamonds = sns.load_dataset(\"diamonds\")\n",
    "sns.displot(diamonds, x=\"carat\", kind=\"kde\")"
   ]
  },
  {
   "cell_type": "code",
   "execution_count": null,
   "id": "8cb4910b",
   "metadata": {},
   "outputs": [],
   "source": [
    "sns.displot(diamonds, x=\"carat\")"
   ]
  },
  {
   "cell_type": "code",
   "execution_count": null,
   "id": "63d595a4",
   "metadata": {},
   "outputs": [],
   "source": [
    "sns.displot(diamonds, x=\"carat\", kde=True)"
   ]
  },
  {
   "cell_type": "code",
   "execution_count": null,
   "id": "0227b506",
   "metadata": {},
   "outputs": [],
   "source": [
    "Empirical cumulative distributions"
   ]
  },
  {
   "cell_type": "code",
   "execution_count": null,
   "id": "43d87844",
   "metadata": {},
   "outputs": [],
   "source": [
    "sns.displot(penguins, x=\"flipper_length_mm\", kind=\"ecdf\")"
   ]
  },
  {
   "cell_type": "code",
   "execution_count": null,
   "id": "44097763",
   "metadata": {},
   "outputs": [],
   "source": [
    "sns.displot(penguins, x=\"flipper_length_mm\", hue=\"species\", kind=\"ecdf\")"
   ]
  },
  {
   "cell_type": "code",
   "execution_count": null,
   "id": "831c9d84",
   "metadata": {},
   "outputs": [],
   "source": [
    "sns.displot(penguins, x=\"bill_length_mm\", y=\"bill_depth_mm\")"
   ]
  },
  {
   "cell_type": "code",
   "execution_count": null,
   "id": "69def440",
   "metadata": {},
   "outputs": [],
   "source": [
    "sns.displot(penguins, x=\"bill_length_mm\", y=\"bill_depth_mm\", kind=\"kde\")"
   ]
  },
  {
   "cell_type": "code",
   "execution_count": null,
   "id": "af7b901e",
   "metadata": {},
   "outputs": [],
   "source": [
    "sns.displot(penguins, x=\"bill_length_mm\", y=\"bill_depth_mm\", hue=\"species\")"
   ]
  },
  {
   "cell_type": "code",
   "execution_count": null,
   "id": "06f45b72",
   "metadata": {},
   "outputs": [],
   "source": [
    "sns.displot(penguins, x=\"bill_length_mm\", y=\"bill_depth_mm\", hue=\"species\", kind=\"kde\")"
   ]
  },
  {
   "cell_type": "code",
   "execution_count": null,
   "id": "69e10618",
   "metadata": {},
   "outputs": [],
   "source": [
    "sns.displot(penguins, x=\"bill_length_mm\", y=\"bill_depth_mm\", binwidth=(2, .5))"
   ]
  },
  {
   "cell_type": "code",
   "execution_count": null,
   "id": "c94a8788",
   "metadata": {},
   "outputs": [],
   "source": [
    "sns.displot(penguins, x=\"bill_length_mm\", y=\"bill_depth_mm\", binwidth=(2, .5), cbar=True)"
   ]
  },
  {
   "cell_type": "code",
   "execution_count": null,
   "id": "756ff9fe",
   "metadata": {},
   "outputs": [],
   "source": [
    "sns.displot(penguins, x=\"bill_length_mm\", y=\"bill_depth_mm\", kind=\"kde\", thresh=.2, levels=4)"
   ]
  },
  {
   "cell_type": "code",
   "execution_count": null,
   "id": "af162934",
   "metadata": {},
   "outputs": [],
   "source": [
    "sns.displot(penguins, x=\"bill_length_mm\", y=\"bill_depth_mm\", kind=\"kde\", levels=[.01, .05, .1, .8])"
   ]
  },
  {
   "cell_type": "code",
   "execution_count": null,
   "id": "97535f56",
   "metadata": {},
   "outputs": [],
   "source": [
    "sns.displot(diamonds, x=\"price\", y=\"clarity\", log_scale=(True, False))"
   ]
  },
  {
   "cell_type": "code",
   "execution_count": null,
   "id": "897a97e8",
   "metadata": {},
   "outputs": [],
   "source": [
    "sns.displot(diamonds, x=\"color\", y=\"clarity\")"
   ]
  },
  {
   "cell_type": "code",
   "execution_count": null,
   "id": "05b5f6b3",
   "metadata": {},
   "outputs": [],
   "source": [
    "Distribution visualization in other settings"
   ]
  },
  {
   "cell_type": "code",
   "execution_count": null,
   "id": "33ccc7fe",
   "metadata": {},
   "outputs": [],
   "source": [
    "sns.jointplot(data=penguins, x=\"bill_length_mm\", y=\"bill_depth_mm\")"
   ]
  },
  {
   "cell_type": "code",
   "execution_count": null,
   "id": "29a059e2",
   "metadata": {},
   "outputs": [],
   "source": [
    "sns.jointplot(\n",
    "    data=penguins,\n",
    "    x=\"bill_length_mm\", y=\"bill_depth_mm\", hue=\"species\",\n",
    "    kind=\"kde\"\n",
    ")"
   ]
  },
  {
   "cell_type": "code",
   "execution_count": null,
   "id": "c1e9321a",
   "metadata": {},
   "outputs": [],
   "source": [
    "g = sns.JointGrid(data=penguins, x=\"bill_length_mm\", y=\"bill_depth_mm\")\n",
    "g.plot_joint(sns.histplot)\n",
    "g.plot_marginals(sns.boxplot)"
   ]
  },
  {
   "cell_type": "code",
   "execution_count": null,
   "id": "396ddbc9",
   "metadata": {},
   "outputs": [],
   "source": [
    "sns.displot(\n",
    "    penguins, x=\"bill_length_mm\", y=\"bill_depth_mm\",\n",
    "    kind=\"kde\", rug=True\n",
    ")"
   ]
  },
  {
   "cell_type": "code",
   "execution_count": null,
   "id": "1da0d874",
   "metadata": {},
   "outputs": [],
   "source": [
    "sns.relplot(data=penguins, x=\"bill_length_mm\", y=\"bill_depth_mm\")\n",
    "sns.rugplot(data=penguins, x=\"bill_length_mm\", y=\"bill_depth_mm\")"
   ]
  },
  {
   "cell_type": "code",
   "execution_count": null,
   "id": "aab9e57d",
   "metadata": {},
   "outputs": [],
   "source": [
    "sns.pairplot(penguins)"
   ]
  },
  {
   "cell_type": "code",
   "execution_count": 5,
   "id": "7588ad2c",
   "metadata": {},
   "outputs": [
    {
     "data": {
      "text/plain": [
       "<seaborn.axisgrid.PairGrid at 0x182488ab3a0>"
      ]
     },
     "execution_count": 5,
     "metadata": {},
     "output_type": "execute_result"
    },
    {
     "data": {
      "image/png": "[encoded data removed]",
      "text/plain": [
       "<Figure size 720x720 with 20 Axes>"
      ]
     },
     "metadata": {
      "needs_background": "light"
     },
     "output_type": "display_data"
    }
   ],
   "source": [
    "g = sns.PairGrid(penguins)\n",
    "g.map_upper(sns.histplot)\n",
    "g.map_lower(sns.kdeplot, fill=True)\n",
    "g.map_diag(sns.histplot, kde=True)"
   ]
  },
  {
   "cell_type": "code",
   "execution_count": null,
   "id": "d35942b9",
   "metadata": {},
   "outputs": [],
   "source": []
  },
  {
   "cell_type": "code",
   "execution_count": null,
   "id": "c81165a9",
   "metadata": {},
   "outputs": [],
   "source": []
  },
  {
   "cell_type": "code",
   "execution_count": null,
   "id": "b78b9257",
   "metadata": {},
   "outputs": [],
   "source": []
  },
  {
   "cell_type": "code",
   "execution_count": null,
   "id": "1eecf3d2",
   "metadata": {},
   "outputs": [],
   "source": []
  },
  {
   "cell_type": "code",
   "execution_count": null,
   "id": "2f61a884",
   "metadata": {},
   "outputs": [],
   "source": []
  }
 ],
 "metadata": {
  "kernelspec": {
   "display_name": "Python 3",
   "language": "python",
   "name": "python3"
  },
  "language_info": {
   "codemirror_mode": {
    "name": "ipython",
    "version": 3
   },
   "file_extension": ".py",
   "mimetype": "text/x-python",
   "name": "python",
   "nbconvert_exporter": "python",
   "pygments_lexer": "ipython3",
   "version": "3.8.8"
  }
 },
 "nbformat": 4,
 "nbformat_minor": 5
}
