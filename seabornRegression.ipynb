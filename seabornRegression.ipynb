{
 "cells": [
  {
   "cell_type": "code",
   "execution_count": null,
   "id": "d64abba9",
   "metadata": {},
   "outputs": [],
   "source": [
    "Visualizing regression models"
   ]
  },
  {
   "cell_type": "code",
   "execution_count": null,
   "id": "5e92a085",
   "metadata": {},
   "outputs": [],
   "source": [
    "https://seaborn.pydata.org/tutorial/regression.html"
   ]
  },
  {
   "cell_type": "code",
   "execution_count": null,
   "id": "4eb0a8a6",
   "metadata": {},
   "outputs": [],
   "source": [
    "import numpy as np\n",
    "import pandas as pd\n",
    "import matplotlib.pyplot as plt\n",
    "import seaborn as sns\n",
    "sns.set_theme(style=\"darkgrid\")\n",
    "%matplotlib inline"
   ]
  },
  {
   "cell_type": "code",
   "execution_count": null,
   "id": "160aa8e4",
   "metadata": {},
   "outputs": [],
   "source": [
    "sns.set_theme(color_codes=True)\n",
    "tips = sns.load_dataset(\"tips\")"
   ]
  },
  {
   "cell_type": "code",
   "execution_count": null,
   "id": "422836d1",
   "metadata": {},
   "outputs": [],
   "source": [
    "Functions to draw linear regression models"
   ]
  },
  {
   "cell_type": "code",
   "execution_count": null,
   "id": "92f1ddb8",
   "metadata": {},
   "outputs": [],
   "source": [
    "sns.regplot(x=\"total_bill\", y=\"tip\", data=tips);"
   ]
  },
  {
   "cell_type": "code",
   "execution_count": null,
   "id": "1b52419a",
   "metadata": {},
   "outputs": [],
   "source": [
    "sns.lmplot(x=\"total_bill\", y=\"tip\", data=tips);"
   ]
  },
  {
   "cell_type": "code",
   "execution_count": null,
   "id": "227d6a40",
   "metadata": {},
   "outputs": [],
   "source": [
    "sns.lmplot(x=\"size\", y=\"tip\", data=tips);"
   ]
  },
  {
   "cell_type": "code",
   "execution_count": null,
   "id": "ed7f41ec",
   "metadata": {},
   "outputs": [],
   "source": [
    "sns.lmplot(x=\"size\", y=\"tip\", data=tips, x_jitter=.05);"
   ]
  },
  {
   "cell_type": "code",
   "execution_count": null,
   "id": "02220cf5",
   "metadata": {},
   "outputs": [],
   "source": [
    "sns.lmplot(x=\"size\", y=\"tip\", data=tips, x_estimator=np.mean);"
   ]
  },
  {
   "cell_type": "code",
   "execution_count": null,
   "id": "c8130498",
   "metadata": {},
   "outputs": [],
   "source": [
    "Fitting different kinds of models"
   ]
  },
  {
   "cell_type": "code",
   "execution_count": null,
   "id": "8ed12975",
   "metadata": {},
   "outputs": [],
   "source": [
    "anscombe = sns.load_dataset(\"anscombe\")\n",
    "sns.lmplot(x=\"x\", y=\"y\", data=anscombe.query(\"dataset == 'I'\"),\n",
    "           ci=None, scatter_kws={\"s\": 80});"
   ]
  },
  {
   "cell_type": "code",
   "execution_count": null,
   "id": "2ce98274",
   "metadata": {},
   "outputs": [],
   "source": [
    "sns.lmplot(x=\"x\", y=\"y\", data=anscombe.query(\"dataset == 'II'\"),\n",
    "           ci=None, scatter_kws={\"s\": 80});"
   ]
  },
  {
   "cell_type": "code",
   "execution_count": null,
   "id": "c87ad352",
   "metadata": {},
   "outputs": [],
   "source": [
    "sns.lmplot(x=\"x\", y=\"y\", data=anscombe.query(\"dataset == 'II'\"),\n",
    "           order=2, ci=None, scatter_kws={\"s\": 80});"
   ]
  },
  {
   "cell_type": "code",
   "execution_count": null,
   "id": "7efa35d5",
   "metadata": {},
   "outputs": [],
   "source": [
    "sns.lmplot(x=\"x\", y=\"y\", data=anscombe.query(\"dataset == 'III'\"),\n",
    "           ci=None, scatter_kws={\"s\": 80});"
   ]
  },
  {
   "cell_type": "code",
   "execution_count": null,
   "id": "fd40eccb",
   "metadata": {},
   "outputs": [],
   "source": [
    "sns.lmplot(x=\"x\", y=\"y\", data=anscombe.query(\"dataset == 'III'\"),\n",
    "           robust=True, ci=None, scatter_kws={\"s\": 80});"
   ]
  },
  {
   "cell_type": "code",
   "execution_count": null,
   "id": "f683026b",
   "metadata": {},
   "outputs": [],
   "source": [
    "tips[\"big_tip\"] = (tips.tip / tips.total_bill) > .15\n",
    "sns.lmplot(x=\"total_bill\", y=\"big_tip\", data=tips,\n",
    "           y_jitter=.03);"
   ]
  },
  {
   "cell_type": "code",
   "execution_count": null,
   "id": "37b6c7cc",
   "metadata": {},
   "outputs": [],
   "source": [
    "sns.lmplot(x=\"total_bill\", y=\"big_tip\", data=tips,\n",
    "           logistic=True, y_jitter=.03);"
   ]
  },
  {
   "cell_type": "code",
   "execution_count": null,
   "id": "24700db1",
   "metadata": {},
   "outputs": [],
   "source": [
    "sns.lmplot(x=\"total_bill\", y=\"tip\", data=tips,\n",
    "           lowess=True);\n"
   ]
  },
  {
   "cell_type": "code",
   "execution_count": null,
   "id": "bf68cb7a",
   "metadata": {},
   "outputs": [],
   "source": [
    "sns.residplot(x=\"x\", y=\"y\", data=anscombe.query(\"dataset == 'I'\"),\n",
    "              scatter_kws={\"s\": 80});"
   ]
  },
  {
   "cell_type": "code",
   "execution_count": null,
   "id": "6ed9fb81",
   "metadata": {},
   "outputs": [],
   "source": [
    "sns.residplot(x=\"x\", y=\"y\", data=anscombe.query(\"dataset == 'II'\"),\n",
    "              scatter_kws={\"s\": 80});"
   ]
  },
  {
   "cell_type": "code",
   "execution_count": null,
   "id": "8dfd8032",
   "metadata": {},
   "outputs": [],
   "source": [
    "sns.lmplot(x=\"total_bill\", y=\"tip\", hue=\"smoker\", data=tips);"
   ]
  },
  {
   "cell_type": "code",
   "execution_count": null,
   "id": "dd21e5ae",
   "metadata": {},
   "outputs": [],
   "source": [
    "sns.lmplot(x=\"total_bill\", y=\"tip\", hue=\"smoker\", data=tips,\n",
    "           markers=[\"o\", \"x\"], palette=\"Set1\");"
   ]
  },
  {
   "cell_type": "code",
   "execution_count": null,
   "id": "0b6c26f2",
   "metadata": {},
   "outputs": [],
   "source": [
    "sns.lmplot(x=\"total_bill\", y=\"tip\", hue=\"smoker\", col=\"time\", data=tips);"
   ]
  },
  {
   "cell_type": "code",
   "execution_count": null,
   "id": "644a4f58",
   "metadata": {},
   "outputs": [],
   "source": [
    "sns.lmplot(x=\"total_bill\", y=\"tip\", hue=\"smoker\",\n",
    "           col=\"time\", row=\"sex\", data=tips);"
   ]
  },
  {
   "cell_type": "code",
   "execution_count": null,
   "id": "28b2da90",
   "metadata": {},
   "outputs": [],
   "source": [
    "Controlling the size and shape of the plot¶"
   ]
  },
  {
   "cell_type": "code",
   "execution_count": null,
   "id": "8cd31792",
   "metadata": {},
   "outputs": [],
   "source": [
    "f, ax = plt.subplots(figsize=(5, 6))\n",
    "sns.regplot(x=\"total_bill\", y=\"tip\", data=tips, ax=ax);"
   ]
  },
  {
   "cell_type": "code",
   "execution_count": null,
   "id": "7ed41acf",
   "metadata": {},
   "outputs": [],
   "source": [
    "sns.lmplot(x=\"total_bill\", y=\"tip\", col=\"day\", data=tips,\n",
    "           col_wrap=2, height=3);\n"
   ]
  },
  {
   "cell_type": "code",
   "execution_count": null,
   "id": "82d825bd",
   "metadata": {},
   "outputs": [],
   "source": [
    "sns.lmplot(x=\"total_bill\", y=\"tip\", col=\"day\", data=tips,\n",
    "           aspect=.5);\n"
   ]
  },
  {
   "cell_type": "code",
   "execution_count": null,
   "id": "de02ea9d",
   "metadata": {},
   "outputs": [],
   "source": [
    "Plotting a regression in other contexts"
   ]
  },
  {
   "cell_type": "code",
   "execution_count": null,
   "id": "9cf21623",
   "metadata": {},
   "outputs": [],
   "source": [
    "sns.jointplot(x=\"total_bill\", y=\"tip\", data=tips, kind=\"reg\");"
   ]
  },
  {
   "cell_type": "code",
   "execution_count": null,
   "id": "cfb31f5e",
   "metadata": {},
   "outputs": [],
   "source": [
    "sns.pairplot(tips, x_vars=[\"total_bill\", \"size\"], y_vars=[\"tip\"],\n",
    "             height=5, aspect=.8, kind=\"reg\");"
   ]
  },
  {
   "cell_type": "code",
   "execution_count": null,
   "id": "71b4183f",
   "metadata": {},
   "outputs": [],
   "source": [
    "sns.pairplot(tips, x_vars=[\"total_bill\", \"size\"], y_vars=[\"tip\"],\n",
    "             hue=\"smoker\", height=5, aspect=.8, kind=\"reg\");"
   ]
  },
  {
   "cell_type": "code",
   "execution_count": null,
   "id": "23f13d20",
   "metadata": {},
   "outputs": [],
   "source": []
  },
  {
   "cell_type": "code",
   "execution_count": null,
   "id": "b8cc361c",
   "metadata": {},
   "outputs": [],
   "source": []
  },
  {
   "cell_type": "code",
   "execution_count": null,
   "id": "3cb8d2aa",
   "metadata": {},
   "outputs": [],
   "source": []
  },
  {
   "cell_type": "code",
   "execution_count": null,
   "id": "b5574235",
   "metadata": {},
   "outputs": [],
   "source": []
  }
 ],
 "metadata": {
  "kernelspec": {
   "display_name": "Python 3",
   "language": "python",
   "name": "python3"
  },
  "language_info": {
   "codemirror_mode": {
    "name": "ipython",
    "version": 3
   },
   "file_extension": ".py",
   "mimetype": "text/x-python",
   "name": "python",
   "nbconvert_exporter": "python",
   "pygments_lexer": "ipython3",
   "version": "3.8.8"
  }
 },
 "nbformat": 4,
 "nbformat_minor": 5
}
