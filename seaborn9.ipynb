{
 "cells": [
  {
   "cell_type": "code",
   "execution_count": null,
   "id": "d05e55f2",
   "metadata": {},
   "outputs": [],
   "source": [
    "seaborn.barplot"
   ]
  },
  {
   "cell_type": "code",
   "execution_count": 1,
   "id": "c8c5b712",
   "metadata": {},
   "outputs": [],
   "source": [
    "import numpy as np\n",
    "import pandas as pd\n",
    "import matplotlib.pyplot as plt\n",
    "import seaborn as sns\n",
    "sns.set_theme(style=\"darkgrid\")\n",
    "%matplotlib inline"
   ]
  },
  {
   "cell_type": "code",
   "execution_count": 2,
   "id": "055cdce9",
   "metadata": {},
   "outputs": [
    {
     "data": {
      "image/png": "[encoded data removed]",
      "text/plain": [
       "<Figure size 432x288 with 1 Axes>"
      ]
     },
     "metadata": {},
     "output_type": "display_data"
    }
   ],
   "source": [
    "import seaborn as sns\n",
    "sns.set_theme(style=\"whitegrid\")\n",
    "tips = sns.load_dataset(\"tips\")\n",
    "ax = sns.barplot(x=\"day\", y=\"total_bill\", data=tips)"
   ]
  },
  {
   "cell_type": "code",
   "execution_count": null,
   "id": "867ecc82",
   "metadata": {},
   "outputs": [],
   "source": [
    "ax = sns.barplot(x=\"day\", y=\"total_bill\", hue=\"sex\", data=tips)"
   ]
  },
  {
   "cell_type": "code",
   "execution_count": null,
   "id": "c196b89d",
   "metadata": {},
   "outputs": [],
   "source": [
    "ax = sns.barplot(x=\"tip\", y=\"day\", data=tips)"
   ]
  },
  {
   "cell_type": "code",
   "execution_count": null,
   "id": "ac5ef2a2",
   "metadata": {},
   "outputs": [],
   "source": [
    "ax = sns.barplot(x=\"time\", y=\"tip\", data=tips,\n",
    "                 order=[\"Dinner\", \"Lunch\"])"
   ]
  },
  {
   "cell_type": "code",
   "execution_count": null,
   "id": "ea5fdb91",
   "metadata": {},
   "outputs": [],
   "source": [
    "from numpy import median\n",
    "ax = sns.barplot(x=\"day\", y=\"tip\", data=tips, estimator=median)"
   ]
  },
  {
   "cell_type": "code",
   "execution_count": null,
   "id": "fbbc9a0d",
   "metadata": {},
   "outputs": [],
   "source": [
    "ax = sns.barplot(x=\"day\", y=\"tip\", data=tips, ci=68)"
   ]
  },
  {
   "cell_type": "code",
   "execution_count": null,
   "id": "bb5b9fe8",
   "metadata": {},
   "outputs": [],
   "source": [
    "ax = sns.barplot(x=\"day\", y=\"tip\", data=tips, ci=\"sd\")"
   ]
  },
  {
   "cell_type": "code",
   "execution_count": null,
   "id": "d7e45491",
   "metadata": {},
   "outputs": [],
   "source": [
    "ax = sns.barplot(x=\"day\", y=\"tip\", data=tips, capsize=.2)"
   ]
  },
  {
   "cell_type": "code",
   "execution_count": null,
   "id": "ade56f65",
   "metadata": {},
   "outputs": [],
   "source": [
    "ax = sns.barplot(x=\"size\", y=\"total_bill\", data=tips,\n",
    "                 palette=\"Blues_d\")"
   ]
  },
  {
   "cell_type": "code",
   "execution_count": null,
   "id": "b730dbe2",
   "metadata": {},
   "outputs": [],
   "source": [
    "tips[\"weekend\"] = tips[\"day\"].isin([\"Sat\", \"Sun\"])\n",
    "ax = sns.barplot(x=\"day\", y=\"total_bill\", hue=\"weekend\",\n",
    "                 data=tips, dodge=False)"
   ]
  },
  {
   "cell_type": "code",
   "execution_count": null,
   "id": "d9b2624f",
   "metadata": {},
   "outputs": [],
   "source": [
    "ax = sns.barplot(x=\"size\", y=\"total_bill\", data=tips,\n",
    "                 color=\"salmon\", saturation=.5)"
   ]
  },
  {
   "cell_type": "code",
   "execution_count": null,
   "id": "390ea5d1",
   "metadata": {},
   "outputs": [],
   "source": [
    "ax = sns.barplot(x=\"day\", y=\"total_bill\", data=tips,\n",
    "                 linewidth=2.5, facecolor=(1, 1, 1, 0),\n",
    "                 errcolor=\".2\", edgecolor=\".2\")"
   ]
  },
  {
   "cell_type": "code",
   "execution_count": 3,
   "id": "6d8aeada",
   "metadata": {},
   "outputs": [
    {
     "data": {
      "image/png": "[encoded data removed]",
      "text/plain": [
       "<Figure size 460.675x288 with 2 Axes>"
      ]
     },
     "metadata": {},
     "output_type": "display_data"
    }
   ],
   "source": [
    "g = sns.catplot(x=\"sex\", y=\"total_bill\",\n",
    "                hue=\"smoker\", col=\"time\",\n",
    "                data=tips, kind=\"bar\",\n",
    "                height=4, aspect=.7);"
   ]
  },
  {
   "cell_type": "code",
   "execution_count": null,
   "id": "c70f5964",
   "metadata": {},
   "outputs": [],
   "source": []
  },
  {
   "cell_type": "code",
   "execution_count": null,
   "id": "a3ccc009",
   "metadata": {},
   "outputs": [],
   "source": []
  }
 ],
 "metadata": {
  "kernelspec": {
   "display_name": "Python 3",
   "language": "python",
   "name": "python3"
  },
  "language_info": {
   "codemirror_mode": {
    "name": "ipython",
    "version": 3
   },
   "file_extension": ".py",
   "mimetype": "text/x-python",
   "name": "python",
   "nbconvert_exporter": "python",
   "pygments_lexer": "ipython3",
   "version": "3.8.8"
  }
 },
 "nbformat": 4,
 "nbformat_minor": 5
}
